{
 "cells": [
  {
   "cell_type": "markdown",
   "metadata": {},
   "source": [
    "# That's a code to read movies data, rank the most popular ones and show them"
   ]
  },
  {
   "cell_type": "markdown",
   "metadata": {},
   "source": [
    "## Importing modules"
   ]
  },
  {
   "cell_type": "code",
   "execution_count": 1,
   "metadata": {},
   "outputs": [],
   "source": [
    "from pyspark.sql import SparkSession\n",
    "from pyspark.sql.types import StructType, StructField, StringType, IntegerType, FloatType, LongType\n",
    "from pyspark.sql.functions import *"
   ]
  },
  {
   "cell_type": "markdown",
   "metadata": {},
   "source": [
    "### Starting SparkSession"
   ]
  },
  {
   "cell_type": "code",
   "execution_count": 2,
   "metadata": {},
   "outputs": [],
   "source": [
    "spark = SparkSession.builder.appName(\"popularMovies\").master(\"local[*]\").getOrCreate()"
   ]
  },
  {
   "cell_type": "markdown",
   "metadata": {},
   "source": [
    "### Defining movies schemas and reading the data"
   ]
  },
  {
   "cell_type": "code",
   "execution_count": 52,
   "metadata": {},
   "outputs": [],
   "source": [
    "#Defining schema\n",
    "moviesSchema = StructType([ \\\n",
    "    StructField(\"userID\", IntegerType(), True), \\\n",
    "    StructField(\"movieID\", IntegerType(), True), \\\n",
    "    StructField(\"rating\", IntegerType(), True), \\\n",
    "    StructField(\"timestamp\", LongType(), True), \\\n",
    "    ])\n",
    "\n",
    "moviesNamesSchema = StructType([ \\\n",
    "    StructField(\"movieID\", IntegerType(), True), \\\n",
    "    StructField(\"movieTitle\", StringType(), True), \\\n",
    "    ])\n",
    "\n",
    "#Reading files and creating dataset with movie IDs, their ratings and the users\n",
    "movies = spark.read.option(\"sep\", \"\\t\").schema(moviesSchema).csv(\"data/ml-100k/u.data\")\n",
    "\n",
    "#Reading files and creating a dataset with movies ID and title\n",
    "movieNames = spark.read.option(\"sep\", \"|\").schema(moviesNamesSchema).csv(\"data/ml-100k/u.item\")"
   ]
  },
  {
   "cell_type": "markdown",
   "metadata": {},
   "source": [
    "### Grouping movies by their ID and joining the datasets"
   ]
  },
  {
   "cell_type": "code",
   "execution_count": 58,
   "metadata": {},
   "outputs": [],
   "source": [
    "#Grouping movies by their ID\n",
    "groupedMovies = movies.groupBy(\"movieID\").count()\n",
    "\n",
    "#Joining both datasets\n",
    "bigMovies = groupedMovies.join(movieNames,groupedMovies.movieID ==  movieNames.movieID,\"inner\")"
   ]
  },
  {
   "cell_type": "markdown",
   "metadata": {},
   "source": [
    "## Showing results"
   ]
  },
  {
   "cell_type": "code",
   "execution_count": 59,
   "metadata": {},
   "outputs": [
    {
     "name": "stdout",
     "output_type": "stream",
     "text": [
      "+--------------------+-----+\n",
      "|          movieTitle|count|\n",
      "+--------------------+-----+\n",
      "|    Star Wars (1977)|  583|\n",
      "|      Contact (1997)|  509|\n",
      "|        Fargo (1996)|  508|\n",
      "|Return of the Jed...|  507|\n",
      "|    Liar Liar (1997)|  485|\n",
      "|English Patient, ...|  481|\n",
      "|       Scream (1996)|  478|\n",
      "|    Toy Story (1995)|  452|\n",
      "|Air Force One (1997)|  431|\n",
      "|Independence Day ...|  429|\n",
      "|Raiders of the Lo...|  420|\n",
      "|Godfather, The (1...|  413|\n",
      "| Pulp Fiction (1994)|  394|\n",
      "|Twelve Monkeys (1...|  392|\n",
      "|Silence of the La...|  390|\n",
      "|Jerry Maguire (1996)|  384|\n",
      "|    Rock, The (1996)|  378|\n",
      "|Empire Strikes Ba...|  367|\n",
      "|Star Trek: First ...|  365|\n",
      "|Back to the Futur...|  350|\n",
      "+--------------------+-----+\n",
      "only showing top 20 rows\n",
      "\n"
     ]
    }
   ],
   "source": [
    "#Showing the result\n",
    "bigMovies.select(\"movieTitle\", \"count\").orderBy(desc(\"count\")).show()"
   ]
  },
  {
   "cell_type": "code",
   "execution_count": null,
   "metadata": {},
   "outputs": [],
   "source": []
  },
  {
   "cell_type": "code",
   "execution_count": null,
   "metadata": {},
   "outputs": [],
   "source": []
  },
  {
   "cell_type": "code",
   "execution_count": null,
   "metadata": {},
   "outputs": [],
   "source": []
  }
 ],
 "metadata": {
  "kernelspec": {
   "display_name": "Python 3",
   "language": "python",
   "name": "python3"
  },
  "language_info": {
   "codemirror_mode": {
    "name": "ipython",
    "version": 3
   },
   "file_extension": ".py",
   "mimetype": "text/x-python",
   "name": "python",
   "nbconvert_exporter": "python",
   "pygments_lexer": "ipython3",
   "version": "3.8.10"
  }
 },
 "nbformat": 4,
 "nbformat_minor": 5
}
