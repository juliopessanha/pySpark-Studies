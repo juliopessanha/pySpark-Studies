{
 "cells": [
  {
   "cell_type": "code",
   "execution_count": 1,
   "metadata": {},
   "outputs": [],
   "source": [
    "from pyspark.sql import SparkSession\n",
    "from pyspark.sql.types import StructType, StringType, IntegerType, FloatType\n",
    "from pyspark.sql.functions import *"
   ]
  },
  {
   "cell_type": "markdown",
   "metadata": {},
   "source": [
    "### That code loads temperature measured by some stations and returns the lowest temperature each station measured in that time window"
   ]
  },
  {
   "cell_type": "markdown",
   "metadata": {},
   "source": [
    "# Defining schema and reading file"
   ]
  },
  {
   "cell_type": "code",
   "execution_count": 29,
   "metadata": {},
   "outputs": [],
   "source": [
    "#Starting Spark Session\n",
    "spark = SparkSession.builder.appName(\"minTemperatures\").master(\"local[*]\").getOrCreate()\n",
    "\n",
    "#Defining the schema\n",
    "temperatureSchema = StructType([ \\\n",
    "    StructField(\"stationID\", StringType(),True), \\\n",
    "    StructField(\"date\", IntegerType(),True), \\\n",
    "    StructField(\"measure_type\", StringType(),True), \\\n",
    "    StructField(\"temperature\", FloatType(), True), \\\n",
    "    ])\n",
    "\n",
    "#Reading data\n",
    "stationTemps = spark.read.option(\"header\", \"true\").schema(temperatureSchema).csv(\"data/1800.csv\")\n"
   ]
  },
  {
   "cell_type": "code",
   "execution_count": 31,
   "metadata": {},
   "outputs": [
    {
     "name": "stdout",
     "output_type": "stream",
     "text": [
      "Here is our inferred schema:\n",
      "root\n",
      " |-- stationID: string (nullable = true)\n",
      " |-- date: integer (nullable = true)\n",
      " |-- measure_type: string (nullable = true)\n",
      " |-- temperature: float (nullable = true)\n",
      "\n",
      "+-----------+----------------+\n",
      "|  stationID|min(temperature)|\n",
      "+-----------+----------------+\n",
      "|ITE00100554|          -148.0|\n",
      "|GM000010962|             0.0|\n",
      "|EZE00100082|          -135.0|\n",
      "+-----------+----------------+\n",
      "\n"
     ]
    }
   ],
   "source": [
    "print(\"Here is our inferred schema:\")\n",
    "stationTemps.printSchema() #Printing the schema\n",
    "\n",
    "#Get the lowest temperature by station\n",
    "minTempStations = stationTemps.groupBy(\"stationID\").min(\"temperature\") \n",
    "\n",
    "minTempStations.show()"
   ]
  },
  {
   "cell_type": "code",
   "execution_count": 32,
   "metadata": {},
   "outputs": [],
   "source": [
    "spark.stop()"
   ]
  },
  {
   "cell_type": "code",
   "execution_count": null,
   "metadata": {},
   "outputs": [],
   "source": []
  }
 ],
 "metadata": {
  "kernelspec": {
   "display_name": "Python 3",
   "language": "python",
   "name": "python3"
  },
  "language_info": {
   "codemirror_mode": {
    "name": "ipython",
    "version": 3
   },
   "file_extension": ".py",
   "mimetype": "text/x-python",
   "name": "python",
   "nbconvert_exporter": "python",
   "pygments_lexer": "ipython3",
   "version": "3.8.10"
  }
 },
 "nbformat": 4,
 "nbformat_minor": 5
}
