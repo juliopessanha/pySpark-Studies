{
 "cells": [
  {
   "cell_type": "markdown",
   "metadata": {},
   "source": [
    "# That's a code to read movies data, rank the most popular ones and show them"
   ]
  },
  {
   "cell_type": "markdown",
   "metadata": {},
   "source": [
    "## Importing modules"
   ]
  },
  {
   "cell_type": "code",
   "execution_count": 13,
   "metadata": {},
   "outputs": [],
   "source": [
    "from pyspark.sql import SparkSession\n",
    "from pyspark.sql.types import StructType, StructField, StringType, IntegerType, FloatType, LongType\n",
    "from pyspark.sql.functions import desc, avg, mean\n",
    "from pyspark.sql.functions import round as _round"
   ]
  },
  {
   "cell_type": "markdown",
   "metadata": {},
   "source": [
    "### Starting SparkSession"
   ]
  },
  {
   "cell_type": "code",
   "execution_count": 68,
   "metadata": {},
   "outputs": [],
   "source": [
    "spark = SparkSession.builder.appName(\"ratingMovies\").master(\"local[*]\").getOrCreate()"
   ]
  },
  {
   "cell_type": "markdown",
   "metadata": {},
   "source": [
    "### Defining movies schemas and reading the data"
   ]
  },
  {
   "cell_type": "code",
   "execution_count": 69,
   "metadata": {},
   "outputs": [],
   "source": [
    "#Defining the schema\n",
    "moviesSchema = StructType([ \\\n",
    "    StructField(\"userID\", IntegerType(), True), \\\n",
    "    StructField(\"movieID\", IntegerType(), True), \\\n",
    "    StructField(\"rating\", IntegerType(), True), \\\n",
    "    StructField(\"timestamp\", LongType(), True), \\\n",
    "    ])\n",
    "\n",
    "#Defining the schema\n",
    "moviesNamesSchema = StructType([ \\\n",
    "    StructField(\"movieID\", IntegerType(), True), \\\n",
    "    StructField(\"movieTitle\", StringType(), True), \\\n",
    "    ])\n",
    "\n",
    "#Reading files and creating dataset with movie IDs, their ratings and the users\n",
    "movies = spark.read.option(\"sep\", \"\\t\").schema(moviesSchema).csv(\"data/ml-100k/u.data\")\n",
    "\n",
    "#Reading files and creating a dataset with movies ID and title\n",
    "movieNames = spark.read.option(\"sep\", \"|\").schema(moviesNamesSchema).csv(\"data/ml-100k/u.item\")"
   ]
  },
  {
   "cell_type": "markdown",
   "metadata": {},
   "source": [
    "### Grouping movies by their ID and joining the datasets"
   ]
  },
  {
   "cell_type": "code",
   "execution_count": 72,
   "metadata": {},
   "outputs": [],
   "source": [
    "#Grouping movies by their ID\n",
    "movieCount = movies.groupBy(\"movieID\").count()\n",
    "\n",
    "#Removing movies with too few votes\n",
    "knownMovies = movieCount.filter(\"count > 100\")#.collect()\n",
    "\n",
    "#Grouping movies by avg rating\n",
    "avgMovies = movies.groupBy(\"movieID\").agg(_round(avg(\"rating\"), 2).alias(\"rating\"))#.collect()\n",
    "#ok so what's the difference between mean and avg functions since both work?\n",
    "\n",
    "#joining the datasets to get the ratings from popular movies\n",
    "groupedMovies = knownMovies.join(avgMovies, \"movieID\", \"left\").select(\"movieID\", \"rating\", \"count\")\n",
    "\n",
    "#Joining the ratings dataset with the movie names one to be easier to see which movie is which\n",
    "bigMovies = groupedMovies.join(movieNames, \"movieID\",\"left\").select(\"movieTitle\", \"rating\")\n"
   ]
  },
  {
   "cell_type": "markdown",
   "metadata": {},
   "source": [
    "## Showing results"
   ]
  },
  {
   "cell_type": "code",
   "execution_count": 73,
   "metadata": {},
   "outputs": [
    {
     "name": "stdout",
     "output_type": "stream",
     "text": [
      "+--------------------+------+\n",
      "|          movieTitle|rating|\n",
      "+--------------------+------+\n",
      "|Close Shave, A (1...|  4.49|\n",
      "|Schindler's List ...|  4.47|\n",
      "|Wrong Trousers, T...|  4.47|\n",
      "|   Casablanca (1942)|  4.46|\n",
      "|Shawshank Redempt...|  4.45|\n",
      "|Usual Suspects, T...|  4.39|\n",
      "|  Rear Window (1954)|  4.39|\n",
      "|    Star Wars (1977)|  4.36|\n",
      "| 12 Angry Men (1957)|  4.34|\n",
      "|Silence of the La...|  4.29|\n",
      "|One Flew Over the...|  4.29|\n",
      "| Citizen Kane (1941)|  4.29|\n",
      "|To Kill a Mocking...|  4.29|\n",
      "|North by Northwes...|  4.28|\n",
      "|Godfather, The (1...|  4.28|\n",
      "|Secrets & Lies (1...|  4.27|\n",
      "|Good Will Hunting...|  4.26|\n",
      "|Manchurian Candid...|  4.26|\n",
      "|Raiders of the Lo...|  4.25|\n",
      "|Dr. Strangelove o...|  4.25|\n",
      "+--------------------+------+\n",
      "only showing top 20 rows\n",
      "\n"
     ]
    }
   ],
   "source": [
    "#Showing the result\n",
    "bigMovies.orderBy(desc(\"rating\")).show()"
   ]
  },
  {
   "cell_type": "code",
   "execution_count": 74,
   "metadata": {},
   "outputs": [],
   "source": [
    "spark.stop()"
   ]
  },
  {
   "cell_type": "code",
   "execution_count": null,
   "metadata": {},
   "outputs": [],
   "source": []
  },
  {
   "cell_type": "code",
   "execution_count": null,
   "metadata": {},
   "outputs": [],
   "source": []
  }
 ],
 "metadata": {
  "kernelspec": {
   "display_name": "Python 3",
   "language": "python",
   "name": "python3"
  },
  "language_info": {
   "codemirror_mode": {
    "name": "ipython",
    "version": 3
   },
   "file_extension": ".py",
   "mimetype": "text/x-python",
   "name": "python",
   "nbconvert_exporter": "python",
   "pygments_lexer": "ipython3",
   "version": "3.8.10"
  }
 },
 "nbformat": 4,
 "nbformat_minor": 5
}
