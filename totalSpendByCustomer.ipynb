{
 "cells": [
  {
   "cell_type": "markdown",
   "metadata": {},
   "source": [
    "# Showing how much each customer spent getting this information from their orders"
   ]
  },
  {
   "cell_type": "code",
   "execution_count": 1,
   "metadata": {},
   "outputs": [],
   "source": [
    "from pyspark.sql import SparkSession\n",
    "from pyspark.sql.types import StructType, StructField, StringType, IntegerType, DoubleType\n",
    "from pyspark.sql.functions import sum as _sum\n",
    "from pyspark.sql.functions import round as _round\n",
    "from pyspark.sql.functions import desc"
   ]
  },
  {
   "cell_type": "code",
   "execution_count": 2,
   "metadata": {},
   "outputs": [],
   "source": [
    "#Starting Spark Session\n",
    "spark = SparkSession.builder.appName(\"totalSpend\").master(\"local[*]\").getOrCreate()\n",
    "\n",
    "#Defining the schema\n",
    "customerOrdersSchema = StructType([ \\\n",
    "  StructField(\"cust_id\", StringType(),True), \\\n",
    "  StructField(\"item_id\", IntegerType(), True), \\\n",
    "  StructField(\"amount_spent\", DoubleType(), True) \\\n",
    "                                  ])\n",
    "\n",
    "#Reading the file with the given schema\n",
    "customerOrders = spark.read.option(\"header\", \"true\").schema(customerOrdersSchema).csv(\"data/customer-orders.csv\")"
   ]
  },
  {
   "cell_type": "code",
   "execution_count": 3,
   "metadata": {},
   "outputs": [],
   "source": [
    "#Get how much each customer spent summing the amount spent grouping by customer\n",
    "customerSpent = customerOrders.groupBy(\"cust_id\").agg(_round(_sum(\"amount_spent\"), 2).alias(\"amount_spent\"))"
   ]
  },
  {
   "cell_type": "code",
   "execution_count": 4,
   "metadata": {},
   "outputs": [
    {
     "name": "stdout",
     "output_type": "stream",
     "text": [
      "+-------+------------+\n",
      "|cust_id|amount_spent|\n",
      "+-------+------------+\n",
      "|     68|     6375.45|\n",
      "|     73|      6206.2|\n",
      "|     39|     6193.11|\n",
      "|     54|     6065.39|\n",
      "|     71|     5995.66|\n",
      "|      2|     5994.59|\n",
      "|     97|     5977.19|\n",
      "|     46|     5963.11|\n",
      "|     42|     5696.84|\n",
      "|     59|     5642.89|\n",
      "+-------+------------+\n",
      "only showing top 10 rows\n",
      "\n"
     ]
    }
   ],
   "source": [
    "customerSpent.orderBy(desc(\"amount_spent\")).show(10)"
   ]
  },
  {
   "cell_type": "markdown",
   "metadata": {},
   "source": [
    "# Checking which itens were sold the most"
   ]
  },
  {
   "cell_type": "code",
   "execution_count": 7,
   "metadata": {},
   "outputs": [
    {
     "name": "stdout",
     "output_type": "stream",
     "text": [
      "+-------+-----+\n",
      "|item_id|count|\n",
      "+-------+-----+\n",
      "|   1827|    7|\n",
      "|   4809|    6|\n",
      "|   3094|    6|\n",
      "|   8395|    6|\n",
      "|    994|    6|\n",
      "|   9127|    6|\n",
      "|    708|    6|\n",
      "|   8868|    6|\n",
      "|   6332|    6|\n",
      "|   2828|    5|\n",
      "+-------+-----+\n",
      "only showing top 10 rows\n",
      "\n"
     ]
    }
   ],
   "source": [
    "#Counting how many times each item was sold\n",
    "customerOrders.groupBy(\"item_id\").count().orderBy(desc(\"count\")).show(10)"
   ]
  },
  {
   "cell_type": "code",
   "execution_count": 42,
   "metadata": {},
   "outputs": [],
   "source": [
    "spark.stop()"
   ]
  },
  {
   "cell_type": "code",
   "execution_count": null,
   "metadata": {},
   "outputs": [],
   "source": []
  }
 ],
 "metadata": {
  "kernelspec": {
   "display_name": "Python 3",
   "language": "python",
   "name": "python3"
  },
  "language_info": {
   "codemirror_mode": {
    "name": "ipython",
    "version": 3
   },
   "file_extension": ".py",
   "mimetype": "text/x-python",
   "name": "python",
   "nbconvert_exporter": "python",
   "pygments_lexer": "ipython3",
   "version": "3.8.10"
  }
 },
 "nbformat": 4,
 "nbformat_minor": 5
}
